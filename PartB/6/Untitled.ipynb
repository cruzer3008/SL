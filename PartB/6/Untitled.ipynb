{
 "cells": [
  {
   "cell_type": "code",
   "execution_count": 10,
   "metadata": {},
   "outputs": [
    {
     "name": "stdout",
     "output_type": "stream",
     "text": [
      "   User_ID Product_ID Gender    Age  Occupation City_Category  \\\n",
      "0  1000004  P00128942      M  46-50         7.0             B   \n",
      "1  1000009  P00113442      M  26-35        17.0             C   \n",
      "2  1000010  P00288442      F  36-45         1.0             B   \n",
      "3  1000010  P00145342      F  36-45         1.0             B   \n",
      "4  1000011  P00053842      F  26-35         1.0             C   \n",
      "\n",
      "  Stay_In_Current_City_Years  Marital_Status  Product_Category_1  \\\n",
      "0                          2             1.0                 1.0   \n",
      "1                          0             0.0                 3.0   \n",
      "2                         4+             1.0                 5.0   \n",
      "3                         4+             1.0                 4.0   \n",
      "4                          1             0.0                 4.0   \n",
      "\n",
      "   Product_Category_2  Product_Category_3  \n",
      "0                11.0                 NaN  \n",
      "1                 5.0                 NaN  \n",
      "2                14.0                 NaN  \n",
      "3                 9.0                 NaN  \n",
      "4                 5.0                12.0  \n",
      "  Gender    Age  Occupation City_Category  Marital_Status  Product_Category_1  \\\n",
      "0      M  46-50         7.0             B             1.0                 1.0   \n",
      "1      M  26-35        17.0             C             0.0                 3.0   \n",
      "2      F  36-45         1.0             B             1.0                 5.0   \n",
      "3      F  36-45         1.0             B             1.0                 4.0   \n",
      "4      F  26-35         1.0             C             0.0                 4.0   \n",
      "\n",
      "   Product_Category_2  Product_Category_3  \n",
      "0                11.0                 NaN  \n",
      "1                 5.0                 NaN  \n",
      "2                14.0                 NaN  \n",
      "3                 9.0                 NaN  \n",
      "4                 5.0                12.0  \n",
      "  Gender    Age  Occupation City_Category  Marital_Status  Baseball_Caps  \\\n",
      "0      M  46-50         7.0             B             1.0            1.0   \n",
      "1      M  26-35        17.0             C             0.0            3.0   \n",
      "2      F  36-45         1.0             B             1.0            5.0   \n",
      "3      F  36-45         1.0             B             1.0            4.0   \n",
      "4      F  26-35         1.0             C             0.0            4.0   \n",
      "\n",
      "   Wine_Tumblers  Pet_Raincoats  \n",
      "0           11.0            NaN  \n",
      "1            5.0            NaN  \n",
      "2           14.0            NaN  \n",
      "3            9.0            NaN  \n",
      "4            5.0           12.0  \n"
     ]
    }
   ],
   "source": [
    "import pandas as pd\n",
    "import numpy as np\n",
    "import seaborn as sns\n",
    "import matplotlib.pyplot as plt\n",
    "\n",
    "friday_df = pd.read_csv(\"train.csv\")\n",
    "print(friday_df.head())\n",
    "friday_df.drop(['User_ID','Product_ID','Stay_In_Current_City_Years'],axis=1,inplace=True)\n",
    "print(friday_df.head())\n",
    "\n",
    "friday_df['City_Category'] = friday_df['City_Category'].fillna('B')\n",
    "\n",
    "friday_df.rename(columns={'Product_Category_1':'Baseball_Caps','Product_Category_2':'Wine_Tumblers','Product_Category_3':'Pet_Raincoats'},inplace=True)\n",
    "friday_df.rename(columns={'Product_Categoy_1':'Baseball_Caps','Product_Categoy_2':'Wine_Tumblers','Product_Categoy_3':'Pet_Raincoats'},inplace=True)\n",
    "print(friday_df.head())"
   ]
  },
  {
   "cell_type": "code",
   "execution_count": null,
   "metadata": {},
   "outputs": [],
   "source": []
  }
 ],
 "metadata": {
  "kernelspec": {
   "display_name": "Python 2",
   "language": "python",
   "name": "python2"
  },
  "language_info": {
   "codemirror_mode": {
    "name": "ipython",
    "version": 2
   },
   "file_extension": ".py",
   "mimetype": "text/x-python",
   "name": "python",
   "nbconvert_exporter": "python",
   "pygments_lexer": "ipython2",
   "version": "2.7.15+"
  }
 },
 "nbformat": 4,
 "nbformat_minor": 2
}
